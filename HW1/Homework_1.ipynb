{
 "cells": [
  {
   "cell_type": "markdown",
   "metadata": {},
   "source": [
    "# CMPSC 448: Homewrok #1\n",
    "# Exploratory Data Analysis with `pandas`\n",
    "\n",
    "## Objectives\n",
    "\n",
    "In this assignment, you are asked to analyze the UCI Adult data set containing demographic information about the US residents. This data was extracted from the census bureau database found at\n",
    "\n",
    "http://www.census.gov/ftp/pub/DES/www/welcome.html\n",
    "\n",
    "The features of data with possible values of each feature are listed below:\n",
    "\n",
    "| Feature Name| Possible Values  |\n",
    "|------|------|\n",
    "| age | continuous|\n",
    "| workclass| Private, Self-emp-not-inc, Self-emp-inc, Federal-gov, Local-gov, State-gov, Without-pay, Never-worked|\n",
    "| fnlwgt| continuous|\n",
    "| education | Bachelors, Some-college, 11th, HS-grad, Prof-school, Assoc-acdm, Assoc-voc, 9th, 7th-8th, 12th, Masters, 1st-4th, 10th, Doctorate, 5th-6th, Preschool|\n",
    "|education_num | continuous|\n",
    "|marital_status | Married-civ-spouse, Divorced, Never-married, Separated, Widowed, Married-spouse-absent, Married-AF-spouse|\n",
    "|occupation | Tech-support, Craft-repair, Other-service, Sales, Exec-managerial, Prof-specialty, Handlers-cleaners, Machine-op-inspct, Adm-clerical, Farming-fishing, Transport-moving, Priv-house-serv, Protective-serv, Armed-Forces|\n",
    "|relationship | Wife, Own-child, Husband, Not-in-family, Other-relative, Unmarried |\n",
    "|race | White, Asian-Pac-Islander, Amer-Indian-Eskimo, Other, Black|\n",
    "|sex | Female, Male|\n",
    "|capital_gain| continuous|\n",
    "|capital_loss | continuous|\n",
    "|hours-per-week | continuous |\n",
    "|native-country | United-States, Cambodia, England, Puerto-Rico, Canada, Germany, Outlying-US(Guam-USVI-etc), India, Japan, Greece, South, China, Cuba, Iran, Honduras, Philippines, Italy, Poland, Jamaica, Vietnam, Mexico, Portugal, Ireland, France, Dominican-Republic, Laos, Ecuador, Taiwan, Haiti, Columbia, Hungary, Guatemala, Nicaragua, Scotland, Thailand, Yugoslavia, El-Salvador, Trinadad&Tobago, Peru, Hong, Holand-Netherlands |\n",
    "|salary | >50K,<=50K |\n",
    "\n",
    "\n",
    "Please  complete the tasks in the Jupyter notebook by answering following 8 questions."
   ]
  },
  {
   "cell_type": "code",
   "execution_count": 38,
   "metadata": {},
   "outputs": [],
   "source": [
    "import numpy as np\n",
    "import pandas as pd\n",
    "pd.set_option('display.max.columns', 100)\n",
    "# to draw pictures in jupyter notebook\n",
    "%matplotlib inline \n",
    "import matplotlib.pyplot as plt\n",
    "import seaborn as sns\n",
    "# we don't like warnings\n",
    "# you can comment the following 2 lines if you'd like to\n",
    "import warnings\n",
    "warnings.filterwarnings('ignore')\n"
   ]
  },
  {
   "cell_type": "code",
   "execution_count": 9,
   "metadata": {},
   "outputs": [
    {
     "name": "stdout",
     "output_type": "stream",
     "text": [
      "age\n",
      " workclass\n",
      " fnlwgt\n",
      " education\n",
      " education-num\n",
      " marital-status\n",
      " occupation\n",
      " relationship\n",
      " race\n",
      " sex\n",
      " capital-gain\n",
      " capital-loss\n",
      " hours-per-week\n",
      " native-country\n",
      " salary\n"
     ]
    }
   ],
   "source": [
    "data = pd.read_csv('adult.data.csv')\n",
    "print(\"\\n\".join(data.columns))"
   ]
  },
  {
   "cell_type": "code",
   "execution_count": 35,
   "metadata": {},
   "outputs": [
    {
     "data": {
      "text/plain": [
       "(32561, 15)"
      ]
     },
     "execution_count": 35,
     "metadata": {},
     "output_type": "execute_result"
    }
   ],
   "source": [
    "data.shape"
   ]
  },
  {
   "cell_type": "code",
   "execution_count": 30,
   "metadata": {
    "scrolled": false
   },
   "outputs": [
    {
     "data": {
      "text/html": [
       "<div>\n",
       "<style scoped>\n",
       "    .dataframe tbody tr th:only-of-type {\n",
       "        vertical-align: middle;\n",
       "    }\n",
       "\n",
       "    .dataframe tbody tr th {\n",
       "        vertical-align: top;\n",
       "    }\n",
       "\n",
       "    .dataframe thead th {\n",
       "        text-align: right;\n",
       "    }\n",
       "</style>\n",
       "<table border=\"1\" class=\"dataframe\">\n",
       "  <thead>\n",
       "    <tr style=\"text-align: right;\">\n",
       "      <th></th>\n",
       "      <th>age</th>\n",
       "      <th>workclass</th>\n",
       "      <th>fnlwgt</th>\n",
       "      <th>education</th>\n",
       "      <th>education-num</th>\n",
       "      <th>marital-status</th>\n",
       "      <th>occupation</th>\n",
       "      <th>relationship</th>\n",
       "      <th>race</th>\n",
       "      <th>sex</th>\n",
       "      <th>capital-gain</th>\n",
       "      <th>capital-loss</th>\n",
       "      <th>hours-per-week</th>\n",
       "      <th>native-country</th>\n",
       "      <th>salary</th>\n",
       "    </tr>\n",
       "  </thead>\n",
       "  <tbody>\n",
       "    <tr>\n",
       "      <th>0</th>\n",
       "      <td>39</td>\n",
       "      <td>State-gov</td>\n",
       "      <td>77516</td>\n",
       "      <td>Bachelors</td>\n",
       "      <td>13</td>\n",
       "      <td>Never-married</td>\n",
       "      <td>Adm-clerical</td>\n",
       "      <td>Not-in-family</td>\n",
       "      <td>White</td>\n",
       "      <td>Male</td>\n",
       "      <td>2174</td>\n",
       "      <td>0</td>\n",
       "      <td>40</td>\n",
       "      <td>United-States</td>\n",
       "      <td>&lt;=50K</td>\n",
       "    </tr>\n",
       "    <tr>\n",
       "      <th>1</th>\n",
       "      <td>50</td>\n",
       "      <td>Self-emp-not-inc</td>\n",
       "      <td>83311</td>\n",
       "      <td>Bachelors</td>\n",
       "      <td>13</td>\n",
       "      <td>Married-civ-spouse</td>\n",
       "      <td>Exec-managerial</td>\n",
       "      <td>Husband</td>\n",
       "      <td>White</td>\n",
       "      <td>Male</td>\n",
       "      <td>0</td>\n",
       "      <td>0</td>\n",
       "      <td>13</td>\n",
       "      <td>United-States</td>\n",
       "      <td>&lt;=50K</td>\n",
       "    </tr>\n",
       "    <tr>\n",
       "      <th>2</th>\n",
       "      <td>38</td>\n",
       "      <td>Private</td>\n",
       "      <td>215646</td>\n",
       "      <td>HS-grad</td>\n",
       "      <td>9</td>\n",
       "      <td>Divorced</td>\n",
       "      <td>Handlers-cleaners</td>\n",
       "      <td>Not-in-family</td>\n",
       "      <td>White</td>\n",
       "      <td>Male</td>\n",
       "      <td>0</td>\n",
       "      <td>0</td>\n",
       "      <td>40</td>\n",
       "      <td>United-States</td>\n",
       "      <td>&lt;=50K</td>\n",
       "    </tr>\n",
       "    <tr>\n",
       "      <th>3</th>\n",
       "      <td>53</td>\n",
       "      <td>Private</td>\n",
       "      <td>234721</td>\n",
       "      <td>11th</td>\n",
       "      <td>7</td>\n",
       "      <td>Married-civ-spouse</td>\n",
       "      <td>Handlers-cleaners</td>\n",
       "      <td>Husband</td>\n",
       "      <td>Black</td>\n",
       "      <td>Male</td>\n",
       "      <td>0</td>\n",
       "      <td>0</td>\n",
       "      <td>40</td>\n",
       "      <td>United-States</td>\n",
       "      <td>&lt;=50K</td>\n",
       "    </tr>\n",
       "    <tr>\n",
       "      <th>4</th>\n",
       "      <td>28</td>\n",
       "      <td>Private</td>\n",
       "      <td>338409</td>\n",
       "      <td>Bachelors</td>\n",
       "      <td>13</td>\n",
       "      <td>Married-civ-spouse</td>\n",
       "      <td>Prof-specialty</td>\n",
       "      <td>Wife</td>\n",
       "      <td>Black</td>\n",
       "      <td>Female</td>\n",
       "      <td>0</td>\n",
       "      <td>0</td>\n",
       "      <td>40</td>\n",
       "      <td>Cuba</td>\n",
       "      <td>&lt;=50K</td>\n",
       "    </tr>\n",
       "  </tbody>\n",
       "</table>\n",
       "</div>"
      ],
      "text/plain": [
       "   age          workclass   fnlwgt   education   education-num  \\\n",
       "0   39          State-gov    77516   Bachelors              13   \n",
       "1   50   Self-emp-not-inc    83311   Bachelors              13   \n",
       "2   38            Private   215646     HS-grad               9   \n",
       "3   53            Private   234721        11th               7   \n",
       "4   28            Private   338409   Bachelors              13   \n",
       "\n",
       "        marital-status          occupation    relationship    race      sex  \\\n",
       "0        Never-married        Adm-clerical   Not-in-family   White     Male   \n",
       "1   Married-civ-spouse     Exec-managerial         Husband   White     Male   \n",
       "2             Divorced   Handlers-cleaners   Not-in-family   White     Male   \n",
       "3   Married-civ-spouse   Handlers-cleaners         Husband   Black     Male   \n",
       "4   Married-civ-spouse      Prof-specialty            Wife   Black   Female   \n",
       "\n",
       "    capital-gain   capital-loss   hours-per-week  native-country  salary  \n",
       "0           2174              0               40   United-States   <=50K  \n",
       "1              0              0               13   United-States   <=50K  \n",
       "2              0              0               40   United-States   <=50K  \n",
       "3              0              0               40   United-States   <=50K  \n",
       "4              0              0               40            Cuba   <=50K  "
      ]
     },
     "execution_count": 30,
     "metadata": {},
     "output_type": "execute_result"
    }
   ],
   "source": [
    "data.head()"
   ]
  },
  {
   "cell_type": "markdown",
   "metadata": {},
   "source": [
    "### 1. How many men and women (sex feature) are represented in this dataset?"
   ]
  },
  {
   "cell_type": "code",
   "execution_count": 47,
   "metadata": {
    "scrolled": true
   },
   "outputs": [
    {
     "data": {
      "text/plain": [
       " Male      21790\n",
       " Female    10771\n",
       "Name:  sex, dtype: int64"
      ]
     },
     "execution_count": 47,
     "metadata": {},
     "output_type": "execute_result"
    }
   ],
   "source": [
    "data[' sex'].value_counts()"
   ]
  },
  {
   "cell_type": "markdown",
   "metadata": {},
   "source": [
    "### 2. What is the average age (age feature) of women?"
   ]
  },
  {
   "cell_type": "code",
   "execution_count": 52,
   "metadata": {
    "scrolled": true
   },
   "outputs": [
    {
     "data": {
      "text/plain": [
       "36.85823043357163"
      ]
     },
     "execution_count": 52,
     "metadata": {},
     "output_type": "execute_result"
    }
   ],
   "source": [
    "data.loc[data[' sex'] == ' Female', 'age'].mean()"
   ]
  },
  {
   "cell_type": "markdown",
   "metadata": {},
   "source": [
    "### 3. What is the percentage of German citizens (native-country feature)?\n"
   ]
  },
  {
   "cell_type": "code",
   "execution_count": 165,
   "metadata": {},
   "outputs": [
    {
     "name": "stdout",
     "output_type": "stream",
     "text": [
      "0.42074874850281013 %\n"
     ]
    }
   ],
   "source": [
    "print((float((data[' native-country'] == ' Germany').sum()) / data.shape[0])*100, \"%\")"
   ]
  },
  {
   "cell_type": "markdown",
   "metadata": {},
   "source": [
    "###  4. What are the mean and standard deviation of age for those who earn more than 50K per year (salary feature) and those who earn less than 50K per year?"
   ]
  },
  {
   "cell_type": "code",
   "execution_count": 167,
   "metadata": {},
   "outputs": [
    {
     "name": "stdout",
     "output_type": "stream",
     "text": [
      "the mean of age for those who more than 50K is  44.24984058155847 the standard deviation of age is  10.51902771985177\n",
      "the mean of age for those who less than 50K is  36.78373786407767 the standard deviation of age is  14.020088490824813\n"
     ]
    }
   ],
   "source": [
    "more_than_50K_mean = data.loc[data[' salary'] == ' >50K', 'age'].mean()\n",
    "less_than_50K_mean = data.loc[data[' salary'] == ' <=50K', 'age'].mean()\n",
    "more_than_50K_std = data.loc[data[' salary'] == ' >50K', 'age'].std()\n",
    "less_than_50K_std = data.loc[data[' salary'] == ' <=50K', 'age'].std()\n",
    "print('the mean of age for those who more than 50K is ', more_than_50K_mean, 'the standard deviation of age is ', more_than_50K_std)\n",
    "print('the mean of age for those who less than 50K is ', less_than_50K_mean, 'the standard deviation of age is ', less_than_50K_std)"
   ]
  },
  {
   "cell_type": "markdown",
   "metadata": {},
   "source": [
    "### 5. Is it true that people who earn more than 50K have at least high school education? (education – Bachelors, Prof-school, Assoc-acdm, Assoc-voc, Masters or Doctorate feature)"
   ]
  },
  {
   "cell_type": "code",
   "execution_count": 138,
   "metadata": {},
   "outputs": [
    {
     "name": "stdout",
     "output_type": "stream",
     "text": [
      "false\n"
     ]
    }
   ],
   "source": [
    "arr = data.loc[data[' salary'] == ' >50K', ' education'].unique()\n",
    "for i in arr:\n",
    "    if i != ' Bachelors' and i != ' Prof-school' and i != ' Assoc-acdm' and i != ' Assoc-voc' and 1 != ' Masters' and i != ' Doctorate' and i != ' HS-grad' and i != ' Some-college':\n",
    "        print('false')\n",
    "        break\n",
    "    if i == len(arr)-1:\n",
    "        print('true')\n",
    "    else:\n",
    "        continue\n",
    "        "
   ]
  },
  {
   "cell_type": "markdown",
   "metadata": {},
   "source": [
    "### 6.  Display age statistics for each race (race feature) and each gender (sex feature). "
   ]
  },
  {
   "cell_type": "markdown",
   "metadata": {},
   "source": [
    "Hint: Use `groupby()` and `describe()` functions of DataFrame. Find the maximum age of men of Amer-Indian-Eskimo race."
   ]
  },
  {
   "cell_type": "code",
   "execution_count": 169,
   "metadata": {
    "scrolled": true
   },
   "outputs": [
    {
     "name": "stdout",
     "output_type": "stream",
     "text": [
      "Race:  Amer-Indian-Eskimo, Gender:  Female\n",
      "count    119.000000\n",
      "mean      37.117647\n",
      "std       13.114991\n",
      "min       17.000000\n",
      "25%       27.000000\n",
      "50%       36.000000\n",
      "75%       46.000000\n",
      "max       80.000000\n",
      "Name: age, dtype: float64\n",
      "Race:  Amer-Indian-Eskimo, Gender:  Male\n",
      "count    192.000000\n",
      "mean      37.208333\n",
      "std       12.049563\n",
      "min       17.000000\n",
      "25%       28.000000\n",
      "50%       35.000000\n",
      "75%       45.000000\n",
      "max       82.000000\n",
      "Name: age, dtype: float64\n",
      "Race:  Asian-Pac-Islander, Gender:  Female\n",
      "count    346.000000\n",
      "mean      35.089595\n",
      "std       12.300845\n",
      "min       17.000000\n",
      "25%       25.000000\n",
      "50%       33.000000\n",
      "75%       43.750000\n",
      "max       75.000000\n",
      "Name: age, dtype: float64\n",
      "Race:  Asian-Pac-Islander, Gender:  Male\n",
      "count    693.000000\n",
      "mean      39.073593\n",
      "std       12.883944\n",
      "min       18.000000\n",
      "25%       29.000000\n",
      "50%       37.000000\n",
      "75%       46.000000\n",
      "max       90.000000\n",
      "Name: age, dtype: float64\n",
      "Race:  Black, Gender:  Female\n",
      "count    1555.000000\n",
      "mean       37.854019\n",
      "std        12.637197\n",
      "min        17.000000\n",
      "25%        28.000000\n",
      "50%        37.000000\n",
      "75%        46.000000\n",
      "max        90.000000\n",
      "Name: age, dtype: float64\n",
      "Race:  Black, Gender:  Male\n",
      "count    1569.000000\n",
      "mean       37.682600\n",
      "std        12.882612\n",
      "min        17.000000\n",
      "25%        27.000000\n",
      "50%        36.000000\n",
      "75%        46.000000\n",
      "max        90.000000\n",
      "Name: age, dtype: float64\n",
      "Race:  Other, Gender:  Female\n",
      "count    109.000000\n",
      "mean      31.678899\n",
      "std       11.631599\n",
      "min       17.000000\n",
      "25%       23.000000\n",
      "50%       29.000000\n",
      "75%       39.000000\n",
      "max       74.000000\n",
      "Name: age, dtype: float64\n",
      "Race:  Other, Gender:  Male\n",
      "count    162.000000\n",
      "mean      34.654321\n",
      "std       11.355531\n",
      "min       17.000000\n",
      "25%       26.000000\n",
      "50%       32.000000\n",
      "75%       42.000000\n",
      "max       77.000000\n",
      "Name: age, dtype: float64\n",
      "Race:  White, Gender:  Female\n",
      "count    8642.000000\n",
      "mean       36.811618\n",
      "std        14.329093\n",
      "min        17.000000\n",
      "25%        25.000000\n",
      "50%        35.000000\n",
      "75%        46.000000\n",
      "max        90.000000\n",
      "Name: age, dtype: float64\n",
      "Race:  White, Gender:  Male\n",
      "count    19174.000000\n",
      "mean        39.652498\n",
      "std         13.436029\n",
      "min         17.000000\n",
      "25%         29.000000\n",
      "50%         38.000000\n",
      "75%         49.000000\n",
      "max         90.000000\n",
      "Name: age, dtype: float64\n"
     ]
    }
   ],
   "source": [
    "for (race, gender), x in data.groupby([' race', ' sex']):\n",
    "    print(\"Race: {0}, Gender: {1}\".format(race, gender))\n",
    "    print(x['age'].describe())\n",
    "    \n",
    "#the maximum age of Amer-Indian-Eskimo is 80"
   ]
  },
  {
   "cell_type": "markdown",
   "metadata": {},
   "source": [
    "### 7. What is the maximum number of hours a person works per week (hours-per-week feature)? How many people work such a number of hours, and what is the percentage of those who earn a lot (>50K) among them?\n"
   ]
  },
  {
   "cell_type": "code",
   "execution_count": 161,
   "metadata": {},
   "outputs": [
    {
     "name": "stdout",
     "output_type": "stream",
     "text": [
      "maximum number of hours:  99\n",
      "number of workers work such a number of hours:  85\n",
      "percentage:  29.411764705882355 %\n"
     ]
    }
   ],
   "source": [
    "maximum = data[' hours-per-week'].max()\n",
    "print(\"maximum number of hours: \", maximum)\n",
    "workers = data[data[' hours-per-week'] == maximum].shape[0]\n",
    "print(\"number of workers work such a number of hours: \", workers)\n",
    "temp = data[data[' hours-per-week'] == maximum]\n",
    "per = (float((temp[' salary'] == ' >50K').sum())/workers) * 100\n",
    "print(\"percentage: \", per, \"%\" )"
   ]
  },
  {
   "cell_type": "markdown",
   "metadata": {},
   "source": [
    "### 8. Count the average time of work (hours-per-week) for those who earn a little and a lot (salary) for each country (native-country). What will these be for Japan?"
   ]
  },
  {
   "cell_type": "code",
   "execution_count": 163,
   "metadata": {},
   "outputs": [
    {
     "name": "stdout",
     "output_type": "stream",
     "text": [
      "country:  ?, salary:  <=50K\n",
      "40.16475972540046\n",
      "country:  ?, salary:  >50K\n",
      "45.54794520547945\n",
      "country:  Cambodia, salary:  <=50K\n",
      "41.416666666666664\n",
      "country:  Cambodia, salary:  >50K\n",
      "40.0\n",
      "country:  Canada, salary:  <=50K\n",
      "37.91463414634146\n",
      "country:  Canada, salary:  >50K\n",
      "45.64102564102564\n",
      "country:  China, salary:  <=50K\n",
      "37.38181818181818\n",
      "country:  China, salary:  >50K\n",
      "38.9\n",
      "country:  Columbia, salary:  <=50K\n",
      "38.68421052631579\n",
      "country:  Columbia, salary:  >50K\n",
      "50.0\n",
      "country:  Cuba, salary:  <=50K\n",
      "37.98571428571429\n",
      "country:  Cuba, salary:  >50K\n",
      "42.44\n",
      "country:  Dominican-Republic, salary:  <=50K\n",
      "42.338235294117645\n",
      "country:  Dominican-Republic, salary:  >50K\n",
      "47.0\n",
      "country:  Ecuador, salary:  <=50K\n",
      "38.041666666666664\n",
      "country:  Ecuador, salary:  >50K\n",
      "48.75\n",
      "country:  El-Salvador, salary:  <=50K\n",
      "36.03092783505155\n",
      "country:  El-Salvador, salary:  >50K\n",
      "45.0\n",
      "country:  England, salary:  <=50K\n",
      "40.483333333333334\n",
      "country:  England, salary:  >50K\n",
      "44.53333333333333\n",
      "country:  France, salary:  <=50K\n",
      "41.05882352941177\n",
      "country:  France, salary:  >50K\n",
      "50.75\n",
      "country:  Germany, salary:  <=50K\n",
      "39.13978494623656\n",
      "country:  Germany, salary:  >50K\n",
      "44.97727272727273\n",
      "country:  Greece, salary:  <=50K\n",
      "41.80952380952381\n",
      "country:  Greece, salary:  >50K\n",
      "50.625\n",
      "country:  Guatemala, salary:  <=50K\n",
      "39.36065573770492\n",
      "country:  Guatemala, salary:  >50K\n",
      "36.666666666666664\n",
      "country:  Haiti, salary:  <=50K\n",
      "36.325\n",
      "country:  Haiti, salary:  >50K\n",
      "42.75\n",
      "country:  Holand-Netherlands, salary:  <=50K\n",
      "40.0\n",
      "country:  Honduras, salary:  <=50K\n",
      "34.333333333333336\n",
      "country:  Honduras, salary:  >50K\n",
      "60.0\n",
      "country:  Hong, salary:  <=50K\n",
      "39.142857142857146\n",
      "country:  Hong, salary:  >50K\n",
      "45.0\n",
      "country:  Hungary, salary:  <=50K\n",
      "31.3\n",
      "country:  Hungary, salary:  >50K\n",
      "50.0\n",
      "country:  India, salary:  <=50K\n",
      "38.233333333333334\n",
      "country:  India, salary:  >50K\n",
      "46.475\n",
      "country:  Iran, salary:  <=50K\n",
      "41.44\n",
      "country:  Iran, salary:  >50K\n",
      "47.5\n",
      "country:  Ireland, salary:  <=50K\n",
      "40.94736842105263\n",
      "country:  Ireland, salary:  >50K\n",
      "48.0\n",
      "country:  Italy, salary:  <=50K\n",
      "39.625\n",
      "country:  Italy, salary:  >50K\n",
      "45.4\n",
      "country:  Jamaica, salary:  <=50K\n",
      "38.23943661971831\n",
      "country:  Jamaica, salary:  >50K\n",
      "41.1\n",
      "country:  Japan, salary:  <=50K\n",
      "41.0\n",
      "country:  Japan, salary:  >50K\n",
      "47.958333333333336\n",
      "country:  Laos, salary:  <=50K\n",
      "40.375\n",
      "country:  Laos, salary:  >50K\n",
      "40.0\n",
      "country:  Mexico, salary:  <=50K\n",
      "40.00327868852459\n",
      "country:  Mexico, salary:  >50K\n",
      "46.57575757575758\n",
      "country:  Nicaragua, salary:  <=50K\n",
      "36.09375\n",
      "country:  Nicaragua, salary:  >50K\n",
      "37.5\n",
      "country:  Outlying-US(Guam-USVI-etc), salary:  <=50K\n",
      "41.857142857142854\n",
      "country:  Peru, salary:  <=50K\n",
      "35.06896551724138\n",
      "country:  Peru, salary:  >50K\n",
      "40.0\n",
      "country:  Philippines, salary:  <=50K\n",
      "38.065693430656935\n",
      "country:  Philippines, salary:  >50K\n",
      "43.032786885245905\n",
      "country:  Poland, salary:  <=50K\n",
      "38.166666666666664\n",
      "country:  Poland, salary:  >50K\n",
      "39.0\n",
      "country:  Portugal, salary:  <=50K\n",
      "41.93939393939394\n",
      "country:  Portugal, salary:  >50K\n",
      "41.5\n",
      "country:  Puerto-Rico, salary:  <=50K\n",
      "38.470588235294116\n",
      "country:  Puerto-Rico, salary:  >50K\n",
      "39.416666666666664\n",
      "country:  Scotland, salary:  <=50K\n",
      "39.44444444444444\n",
      "country:  Scotland, salary:  >50K\n",
      "46.666666666666664\n",
      "country:  South, salary:  <=50K\n",
      "40.15625\n",
      "country:  South, salary:  >50K\n",
      "51.4375\n",
      "country:  Taiwan, salary:  <=50K\n",
      "33.774193548387096\n",
      "country:  Taiwan, salary:  >50K\n",
      "46.8\n",
      "country:  Thailand, salary:  <=50K\n",
      "42.86666666666667\n",
      "country:  Thailand, salary:  >50K\n",
      "58.333333333333336\n",
      "country:  Trinadad&Tobago, salary:  <=50K\n",
      "37.05882352941177\n",
      "country:  Trinadad&Tobago, salary:  >50K\n",
      "40.0\n",
      "country:  United-States, salary:  <=50K\n",
      "38.79912723305605\n",
      "country:  United-States, salary:  >50K\n",
      "45.50536884674383\n",
      "country:  Vietnam, salary:  <=50K\n",
      "37.193548387096776\n",
      "country:  Vietnam, salary:  >50K\n",
      "39.2\n",
      "country:  Yugoslavia, salary:  <=50K\n",
      "41.6\n",
      "country:  Yugoslavia, salary:  >50K\n",
      "49.5\n"
     ]
    }
   ],
   "source": [
    "for (country, salary), x in data.groupby([' native-country', ' salary']):\n",
    "    print(\"country: {0}, salary: {1}\".format(country, salary))\n",
    "    print(x[' hours-per-week'].mean())"
   ]
  }
 ],
 "metadata": {
  "kernelspec": {
   "display_name": "Python 3",
   "language": "python",
   "name": "python3"
  },
  "language_info": {
   "codemirror_mode": {
    "name": "ipython",
    "version": 3
   },
   "file_extension": ".py",
   "mimetype": "text/x-python",
   "name": "python",
   "nbconvert_exporter": "python",
   "pygments_lexer": "ipython3",
   "version": "3.8.8"
  }
 },
 "nbformat": 4,
 "nbformat_minor": 2
}
