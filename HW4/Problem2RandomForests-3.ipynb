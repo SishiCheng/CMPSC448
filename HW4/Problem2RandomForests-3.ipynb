{
 "cells": [
  {
   "cell_type": "code",
   "execution_count": 11,
   "id": "51c2e03a",
   "metadata": {},
   "outputs": [
    {
     "name": "stdout",
     "output_type": "stream",
     "text": [
      "________________________________________________________________________________\n",
      "[Memory] Calling __main__-C%3A-Users-Cici-Downloads-Homework4-Homework4-%3Cipython-input-26afc1d57095%3E.get_data...\n",
      "get_data()\n",
      "_________________________________________________________get_data - 0.2s, 0.0min\n",
      "________________________________________________________________________________\n",
      "[Memory] Calling __main__-C%3A-Users-Cici-Downloads-Homework4-Homework4-%3Cipython-input-26afc1d57095%3E.get_test...\n",
      "get_test()\n",
      "_________________________________________________________get_test - 0.0s, 0.0min\n",
      "Accuracy: 76.91%\n"
     ]
    }
   ],
   "source": [
    "# Random Forests model for a9a\n",
    "from sklearn.ensemble import RandomForestClassifier\n",
    "from sklearn.metrics import accuracy_score\n",
    "# load data\n",
    "from joblib import Memory\n",
    "from sklearn.datasets import load_svmlight_file\n",
    "mem = Memory(\"./mycache\")\n",
    "\n",
    "@mem.cache\n",
    "def get_data():\n",
    "    data = load_svmlight_file('a9a.txt')\n",
    "    return data[0], data[1]\n",
    "\n",
    "X, y = get_data()"
   ]
  },
  {
   "cell_type": "code",
   "execution_count": 3,
   "id": "61cf0139",
   "metadata": {},
   "outputs": [
    {
     "name": "stdout",
     "output_type": "stream",
     "text": [
      "________________________________________________________________________________\n",
      "[Memory] Calling __main__-C%3A-Users-Cici-Downloads-Homework4-Homework4-%3Cipython-input-74b801494dbf%3E.get_data...\n",
      "get_data()\n",
      "_________________________________________________________get_data - 0.1s, 0.0min\n",
      "[0.83558559 0.82985258 0.82555283 0.83128583 0.82473382]\n",
      "Accuracy: 82.94021294021293\n",
      "{'bootstrap': True, 'ccp_alpha': 0.0, 'class_weight': None, 'criterion': 'gini', 'max_depth': None, 'max_features': 'auto', 'max_leaf_nodes': None, 'max_samples': None, 'min_impurity_decrease': 0.0, 'min_impurity_split': None, 'min_samples_leaf': 1, 'min_samples_split': 2, 'min_weight_fraction_leaf': 0.0, 'n_estimators': 100, 'n_jobs': None, 'oob_score': False, 'random_state': None, 'verbose': 0, 'warm_start': False}\n"
     ]
    }
   ],
   "source": [
    "# load data\n",
    "from sklearn.ensemble import RandomForestClassifier\n",
    "from joblib import Memory\n",
    "from sklearn.datasets import load_svmlight_file\n",
    "from sklearn import model_selection\n",
    "from sklearn.model_selection import train_test_split,KFold\n",
    "import numpy as np\n",
    "import matplotlib.pyplot as plt\n",
    "mem = Memory(\"./mycache\")\n",
    "\n",
    "@mem.cache\n",
    "def get_data():\n",
    "    data = load_svmlight_file('a9a.txt')\n",
    "    return data[0], data[1]\n",
    "\n",
    "X, y = get_data()\n",
    "\n",
    "X_train, X_test, y_train, y_test = train_test_split(X,y)\n",
    "\n",
    "kfold = model_selection.KFold(n_splits=5)\n",
    "model = RandomForestClassifier()\n",
    "results = model_selection.cross_val_score(model, X_train, y_train, cv=kfold)\n",
    "print(results)\n",
    "print(\"Accuracy:\", results.mean()*100)\n",
    "print(model.get_params())"
   ]
  },
  {
   "cell_type": "code",
   "execution_count": 14,
   "id": "ac7a1ed6",
   "metadata": {},
   "outputs": [
    {
     "name": "stdout",
     "output_type": "stream",
     "text": [
      "{'n_estimators': [200, 400, 600, 800, 1000, 1200, 1400, 1600, 1800, 2000], 'max_features': ['auto', 'sqrt'], 'min_samples_split': [2, 5, 10], 'min_samples_leaf': [1, 2, 4], 'bootstrap': [True, False]}\n"
     ]
    }
   ],
   "source": [
    "from sklearn.model_selection import RandomizedSearchCV\n",
    "\n",
    "n_estimators = [int(x) for x in np.linspace(start = 200, stop = 2000, num = 10)]\n",
    "max_features = ['auto', 'sqrt']\n",
    "#max_depth = [int(x) for x in np.linspace(10, 110, num = 11)]\n",
    "max_depth.append(None)\n",
    "min_samples_split = [2, 5, 10]\n",
    "min_samples_leaf = [1, 2, 4]\n",
    "bootstrap = [True, False]\n",
    "\n",
    "random_grid = {'n_estimators': n_estimators,\n",
    "               'max_features': max_features,\n",
    "               'min_samples_split': min_samples_split,\n",
    "               'min_samples_leaf': min_samples_leaf,\n",
    "               'bootstrap': bootstrap}\n",
    "print(random_grid)"
   ]
  },
  {
   "cell_type": "code",
   "execution_count": 17,
   "id": "2d5729fd",
   "metadata": {},
   "outputs": [
    {
     "name": "stdout",
     "output_type": "stream",
     "text": [
      "Fitting 3 folds for each of 50 candidates, totalling 150 fits\n"
     ]
    },
    {
     "data": {
      "text/plain": [
       "{'n_estimators': 200,\n",
       " 'min_samples_split': 5,\n",
       " 'min_samples_leaf': 2,\n",
       " 'max_features': 'auto',\n",
       " 'bootstrap': False}"
      ]
     },
     "execution_count": 17,
     "metadata": {},
     "output_type": "execute_result"
    }
   ],
   "source": [
    "model = RandomForestClassifier(max_depth = 3)\n",
    "\n",
    "model_random = RandomizedSearchCV(estimator = model, param_distributions = random_grid, n_iter = 50, cv = 3, verbose=2, random_state=42, n_jobs = -1)\n",
    "\n",
    "model_random.fit(X_train, y_train)\n",
    "model_random.best_params_"
   ]
  },
  {
   "cell_type": "code",
   "execution_count": 18,
   "id": "64461ec2",
   "metadata": {},
   "outputs": [
    {
     "name": "stdout",
     "output_type": "stream",
     "text": [
      "[0.85094185 0.84152334 0.83845209 0.84725635 0.83906634]\n",
      "Accuracy: 84.34479934479936\n"
     ]
    }
   ],
   "source": [
    "kfold = model_selection.KFold(n_splits=5)\n",
    "model = RandomForestClassifier(n_estimators=200, min_samples_split=5, min_samples_leaf=2, bootstrap=False)\n",
    "results = model_selection.cross_val_score(model, X_train, y_train, cv=kfold)\n",
    "print(results)\n",
    "print(\"Accuracy:\", results.mean()*100)"
   ]
  },
  {
   "cell_type": "code",
   "execution_count": 19,
   "id": "6ed00791",
   "metadata": {},
   "outputs": [
    {
     "name": "stdout",
     "output_type": "stream",
     "text": [
      "Accuracy: 84.67%\n"
     ]
    }
   ],
   "source": [
    "model = RandomForestClassifier(n_estimators=200, min_samples_split=5, min_samples_leaf=2, bootstrap=False)\n",
    "model.fit(X_train, y_train)\n",
    "results = model.score(X_test, y_test)\n",
    "print(\"Accuracy: %.2f%%\" % (results * 100.0))"
   ]
  },
  {
   "cell_type": "code",
   "execution_count": 20,
   "id": "97f0bad9",
   "metadata": {},
   "outputs": [
    {
     "name": "stdout",
     "output_type": "stream",
     "text": [
      "________________________________________________________________________________\n",
      "[Memory] Calling __main__-C%3A-Users-Cici-Downloads-Homework4-Homework4-%3Cipython-input-b40a7d8e9bdc%3E.get_test...\n",
      "get_test()\n",
      "_________________________________________________________get_test - 0.0s, 0.0min\n",
      "Accuracy: 84.50%\n"
     ]
    }
   ],
   "source": [
    "@mem.cache\n",
    "def get_test():\n",
    "    data = load_svmlight_file('a9a.t')\n",
    "    return data[0], data[1]\n",
    "\n",
    "X_test, y_test = get_test()\n",
    "\n",
    "model = RandomForestClassifier(n_estimators=200, min_samples_split=5, min_samples_leaf=2, bootstrap=False)\n",
    "model.fit(X_train, y_train)\n",
    "results = model.score(X_test, y_test)\n",
    "print(\"Accuracy: %.2f%%\" % (results * 100.0))"
   ]
  }
 ],
 "metadata": {
  "kernelspec": {
   "display_name": "Python 3",
   "language": "python",
   "name": "python3"
  }
 },
 "nbformat": 4,
 "nbformat_minor": 5
}
