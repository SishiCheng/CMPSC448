{
 "cells": [
  {
   "cell_type": "code",
   "execution_count": null,
   "id": "f02741a1",
   "metadata": {},
   "outputs": [],
   "source": [
    "from sklearn import svm\n",
    "# load data\n",
    "from joblib import Memory\n",
    "from sklearn.datasets import load_svmlight_file\n",
    "mem = Memory(\"./mycache\")\n",
    "\n",
    "@mem.cache\n",
    "def get_data():\n",
    "    data = load_svmlight_file('a9a.txt')\n",
    "    return data[0], data[1]\n",
    "\n",
    "X, y = get_data()"
   ]
  },
  {
   "cell_type": "code",
   "execution_count": 1,
   "id": "1bbfed5b",
   "metadata": {},
   "outputs": [
    {
     "name": "stdout",
     "output_type": "stream",
     "text": [
      "________________________________________________________________________________\n",
      "[Memory] Calling __main__-C%3A-Users-Cici-Downloads-Homework4-Homework4-%3Cipython-input-04dfcaeaa07a%3E.get_data...\n",
      "get_data()\n",
      "_________________________________________________________get_data - 0.4s, 0.0min\n",
      "[0.8466421  0.84561835 0.85380835 0.84561835 0.84807535]\n",
      "Accuracy: 84.79524979524979\n",
      "{'C': 1.0, 'break_ties': False, 'cache_size': 200, 'class_weight': None, 'coef0': 0.0, 'decision_function_shape': 'ovr', 'degree': 3, 'gamma': 'scale', 'kernel': 'rbf', 'max_iter': -1, 'probability': False, 'random_state': None, 'shrinking': True, 'tol': 0.001, 'verbose': False}\n"
     ]
    }
   ],
   "source": [
    "# load data\n",
    "from sklearn.svm import SVC\n",
    "from joblib import Memory\n",
    "from sklearn.datasets import load_svmlight_file\n",
    "from sklearn import model_selection\n",
    "from sklearn.model_selection import train_test_split,KFold\n",
    "import numpy as np\n",
    "import matplotlib.pyplot as plt\n",
    "mem = Memory(\"./mycache\")\n",
    "\n",
    "@mem.cache\n",
    "def get_data():\n",
    "    data = load_svmlight_file('a9a.txt')\n",
    "    return data[0], data[1]\n",
    "\n",
    "X, y = get_data()\n",
    "\n",
    "X_train, X_test, y_train, y_test = train_test_split(X,y)\n",
    "svclassifier = SVC(kernel='rbf')\n",
    "svclassifier.fit(X_train, y_train)\n",
    "kfold = model_selection.KFold(n_splits=5)\n",
    "model = svclassifier\n",
    "results = model_selection.cross_val_score(model, X_train, y_train, cv=kfold)\n",
    "print(results)\n",
    "print(\"Accuracy:\", results.mean()*100)\n",
    "print(model.get_params())"
   ]
  },
  {
   "cell_type": "code",
   "execution_count": 2,
   "id": "80987d67",
   "metadata": {},
   "outputs": [
    {
     "name": "stdout",
     "output_type": "stream",
     "text": [
      "[0.84807535 0.84643735 0.85769861 0.83865684 0.8503276 ]\n",
      "Accuracy: 84.82391482391482\n"
     ]
    }
   ],
   "source": [
    "svclassifier = SVC(kernel='linear')\n",
    "svclassifier.fit(X_train, y_train)\n",
    "kfold = model_selection.KFold(n_splits=5)\n",
    "model = svclassifier\n",
    "results = model_selection.cross_val_score(model, X_train, y_train, cv=kfold)\n",
    "print(results)\n",
    "print(\"Accuracy:\", results.mean()*100)"
   ]
  },
  {
   "cell_type": "code",
   "execution_count": 3,
   "id": "c4914701",
   "metadata": {},
   "outputs": [
    {
     "name": "stdout",
     "output_type": "stream",
     "text": [
      "[0.84418509 0.84398034 0.8540131  0.8462326  0.84930385]\n",
      "Accuracy: 84.75429975429975\n"
     ]
    }
   ],
   "source": [
    "svclassifier = SVC(kernel='poly')\n",
    "svclassifier.fit(X_train, y_train)\n",
    "kfold = model_selection.KFold(n_splits=5)\n",
    "model = svclassifier\n",
    "results = model_selection.cross_val_score(model, X_train, y_train, cv=kfold)\n",
    "print(results)\n",
    "print(\"Accuracy:\", results.mean()*100)"
   ]
  },
  {
   "cell_type": "code",
   "execution_count": 5,
   "id": "614e9435",
   "metadata": {},
   "outputs": [
    {
     "name": "stdout",
     "output_type": "stream",
     "text": [
      "0.8430168283994596\n",
      "Accuracy: 84.30168283994595\n"
     ]
    }
   ],
   "source": [
    "svclassifier = SVC(kernel='linear')\n",
    "svclassifier.fit(X_train, y_train)\n",
    "results = svclassifier.score(X_test, y_test)\n",
    "print(results)\n",
    "print(\"Accuracy:\", results.mean()*100)"
   ]
  },
  {
   "cell_type": "code",
   "execution_count": 6,
   "id": "484a4245",
   "metadata": {},
   "outputs": [
    {
     "name": "stdout",
     "output_type": "stream",
     "text": [
      "________________________________________________________________________________\n",
      "[Memory] Calling __main__-C%3A-Users-Cici-Downloads-Homework4-Homework4-%3Cipython-input-43d0230e29f4%3E.get_test...\n",
      "get_test()\n",
      "_________________________________________________________get_test - 0.3s, 0.0min\n",
      "Accuracy: 84.98%\n"
     ]
    }
   ],
   "source": [
    "@mem.cache\n",
    "def get_test():\n",
    "    data = load_svmlight_file('a9a.t')\n",
    "    return data[0], data[1]\n",
    "\n",
    "X_test, y_test = get_test()\n",
    "\n",
    "svclassifier = SVC(kernel='linear')\n",
    "svclassifier.fit(X, y)\n",
    "results = svclassifier.score(X_test, y_test)\n",
    "print(\"Accuracy: %.2f%%\" % (results * 100.0))"
   ]
  }
 ],
 "metadata": {
  "kernelspec": {
   "display_name": "Python 3",
   "language": "python",
   "name": "python3"
  },
  "language_info": {
   "codemirror_mode": {
    "name": "ipython",
    "version": 3
   },
   "file_extension": ".py",
   "mimetype": "text/x-python",
   "name": "python",
   "nbconvert_exporter": "python",
   "pygments_lexer": "ipython3",
   "version": "3.8.8"
  }
 },
 "nbformat": 4,
 "nbformat_minor": 5
}
